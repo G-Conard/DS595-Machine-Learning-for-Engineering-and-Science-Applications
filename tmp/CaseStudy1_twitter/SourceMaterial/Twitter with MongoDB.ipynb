{
 "cells": [
  {
   "cell_type": "markdown",
   "metadata": {},
   "source": [
    "# Example 1. Authorizing an application to access Twitter account data"
   ]
  },
  {
   "cell_type": "code",
   "execution_count": 34,
   "metadata": {},
   "outputs": [
    {
     "name": "stdout",
     "output_type": "stream",
     "text": [
      "<twitter.api.Twitter object at 0x000001CC1371EDA0>\n"
     ]
    }
   ],
   "source": [
    "import twitter\n",
    "# Go to http://dev.twitter.com/apps/new to create an app and get values\n",
    "# for these credentials, which you'll need to provide in place of these\n",
    "# empty string values that are defined as placeholders.\n",
    "# See https://dev.twitter.com/docs/auth/oauth for more information \n",
    "# on Twitter's OAuth implementation.\n",
    "\n",
    "CONSUMER_KEY = 'ogPne6LCzy0TgeCbtpTyMoFzh'\n",
    "CONSUMER_SECRET ='IN25rxolldcxX5gz3xsSgGbZwBcsYuPuFLnoNzyFRNtIBvmuBi'\n",
    "OAUTH_TOKEN = '571213367-jAEYPDKJy2T6PjrqmmAsxF6Bq1uJ8s0ADed1kqae'\n",
    "OAUTH_TOKEN_SECRET = 'BCB5LnJ5eImhc4jSFER0H0uZC7eEmqToiC3zSRxyc1t67'\n",
    "\n",
    "auth = twitter.oauth.OAuth(OAUTH_TOKEN, OAUTH_TOKEN_SECRET,\n",
    "                           CONSUMER_KEY, CONSUMER_SECRET)\n",
    "\n",
    "twitter_api = twitter.Twitter(auth=auth)\n",
    "\n",
    "# Nothing to see by displaying twitter_api except that it's now a\n",
    "# defined variable\n",
    "\n",
    "print(twitter_api)"
   ]
  },
  {
   "cell_type": "markdown",
   "metadata": {},
   "source": [
    "# Example 2. Retrieving trends"
   ]
  },
  {
   "cell_type": "code",
   "execution_count": 35,
   "metadata": {},
   "outputs": [],
   "source": [
    "# The Yahoo! Where On Earth ID for the entire world is 1.\n",
    "# See https://dev.twitter.com/docs/api/1.1/get/trends/place and\n",
    "# http://developer.yahoo.com/geo/geoplanet/\n",
    "\n",
    "WORLD_WOE_ID = 1\n",
    "US_WOE_ID = 23424977\n",
    "\n",
    "# Prefix ID with the underscore for query string parameterization.\n",
    "# Without the underscore, the twitter package appends the ID value\n",
    "# to the URL itself as a special case keyword argument.\n",
    "\n",
    "world_trends = twitter_api.trends.place(_id=WORLD_WOE_ID)\n",
    "us_trends = twitter_api.trends.place(_id=US_WOE_ID)\n"
   ]
  },
  {
   "cell_type": "code",
   "execution_count": 36,
   "metadata": {
    "scrolled": true
   },
   "outputs": [
    {
     "data": {
      "text/plain": [
       "[{'as_of': '2017-09-15T00:24:40Z',\n",
       "  'created_at': '2017-09-15T00:22:32Z',\n",
       "  'locations': [{'name': 'Worldwide', 'woeid': 1}],\n",
       "  'trends': [{'name': 'ミサイル',\n",
       "    'promoted_content': None,\n",
       "    'query': '%E3%83%9F%E3%82%B5%E3%82%A4%E3%83%AB',\n",
       "    'tweet_volume': 820005,\n",
       "    'url': 'http://twitter.com/search?q=%E3%83%9F%E3%82%B5%E3%82%A4%E3%83%AB'},\n",
       "   {'name': '#تلاحمنا_اساس_وحدتنا',\n",
       "    'promoted_content': None,\n",
       "    'query': '%23%D8%AA%D9%84%D8%A7%D8%AD%D9%85%D9%86%D8%A7_%D8%A7%D8%B3%D8%A7%D8%B3_%D9%88%D8%AD%D8%AF%D8%AA%D9%86%D8%A7',\n",
       "    'tweet_volume': 123055,\n",
       "    'url': 'http://twitter.com/search?q=%23%D8%AA%D9%84%D8%A7%D8%AD%D9%85%D9%86%D8%A7_%D8%A7%D8%B3%D8%A7%D8%B3_%D9%88%D8%AD%D8%AF%D8%AA%D9%86%D8%A7'},\n",
       "   {'name': 'Lady Gaga',\n",
       "    'promoted_content': None,\n",
       "    'query': '%22Lady+Gaga%22',\n",
       "    'tweet_volume': 280051,\n",
       "    'url': 'http://twitter.com/search?q=%22Lady+Gaga%22'},\n",
       "   {'name': '#bbcqt',\n",
       "    'promoted_content': None,\n",
       "    'query': '%23bbcqt',\n",
       "    'tweet_volume': 16467,\n",
       "    'url': 'http://twitter.com/search?q=%23bbcqt'},\n",
       "   {'name': '#باوزا_مدرب_المنتخب_السعودي',\n",
       "    'promoted_content': None,\n",
       "    'query': '%23%D8%A8%D8%A7%D9%88%D8%B2%D8%A7_%D9%85%D8%AF%D8%B1%D8%A8_%D8%A7%D9%84%D9%85%D9%86%D8%AA%D8%AE%D8%A8_%D8%A7%D9%84%D8%B3%D8%B9%D9%88%D8%AF%D9%8A',\n",
       "    'tweet_volume': 37800,\n",
       "    'url': 'http://twitter.com/search?q=%23%D8%A8%D8%A7%D9%88%D8%B2%D8%A7_%D9%85%D8%AF%D8%B1%D8%A8_%D8%A7%D9%84%D9%85%D9%86%D8%AA%D8%AE%D8%A8_%D8%A7%D9%84%D8%B3%D8%B9%D9%88%D8%AF%D9%8A'},\n",
       "   {'name': '#ماعندك_الا_الضراط_ياغانم',\n",
       "    'promoted_content': None,\n",
       "    'query': '%23%D9%85%D8%A7%D8%B9%D9%86%D8%AF%D9%83_%D8%A7%D9%84%D8%A7_%D8%A7%D9%84%D8%B6%D8%B1%D8%A7%D8%B7_%D9%8A%D8%A7%D8%BA%D8%A7%D9%86%D9%85',\n",
       "    'tweet_volume': 38768,\n",
       "    'url': 'http://twitter.com/search?q=%23%D9%85%D8%A7%D8%B9%D9%86%D8%AF%D9%83_%D8%A7%D9%84%D8%A7_%D8%A7%D9%84%D8%B6%D8%B1%D8%A7%D8%B7_%D9%8A%D8%A7%D8%BA%D8%A7%D9%86%D9%85'},\n",
       "   {'name': 'Arsenal',\n",
       "    'promoted_content': None,\n",
       "    'query': 'Arsenal',\n",
       "    'tweet_volume': 362960,\n",
       "    'url': 'http://twitter.com/search?q=Arsenal'},\n",
       "   {'name': '#CristinaEnVivo',\n",
       "    'promoted_content': None,\n",
       "    'query': '%23CristinaEnVivo',\n",
       "    'tweet_volume': 79723,\n",
       "    'url': 'http://twitter.com/search?q=%23CristinaEnVivo'},\n",
       "   {'name': 'Eslovenia',\n",
       "    'promoted_content': None,\n",
       "    'query': 'Eslovenia',\n",
       "    'tweet_volume': 28382,\n",
       "    'url': 'http://twitter.com/search?q=Eslovenia'},\n",
       "   {'name': 'Europa League',\n",
       "    'promoted_content': None,\n",
       "    'query': '%22Europa+League%22',\n",
       "    'tweet_volume': 76454,\n",
       "    'url': 'http://twitter.com/search?q=%22Europa+League%22'},\n",
       "   {'name': 'EL BESO MAS ESPERADO',\n",
       "    'promoted_content': None,\n",
       "    'query': '%22EL+BESO+MAS+ESPERADO%22',\n",
       "    'tweet_volume': 12732,\n",
       "    'url': 'http://twitter.com/search?q=%22EL+BESO+MAS+ESPERADO%22'},\n",
       "   {'name': 'Jew Haters',\n",
       "    'promoted_content': None,\n",
       "    'query': '%22Jew+Haters%22',\n",
       "    'tweet_volume': 39061,\n",
       "    'url': 'http://twitter.com/search?q=%22Jew+Haters%22'},\n",
       "   {'name': 'Hokkaido',\n",
       "    'promoted_content': None,\n",
       "    'query': 'Hokkaido',\n",
       "    'tweet_volume': 25378,\n",
       "    'url': 'http://twitter.com/search?q=Hokkaido'},\n",
       "   {'name': 'Rhys Hoskins',\n",
       "    'promoted_content': None,\n",
       "    'query': '%22Rhys+Hoskins%22',\n",
       "    'tweet_volume': None,\n",
       "    'url': 'http://twitter.com/search?q=%22Rhys+Hoskins%22'},\n",
       "   {'name': 'ネスレ',\n",
       "    'promoted_content': None,\n",
       "    'query': '%E3%83%8D%E3%82%B9%E3%83%AC',\n",
       "    'tweet_volume': None,\n",
       "    'url': 'http://twitter.com/search?q=%E3%83%8D%E3%82%B9%E3%83%AC'},\n",
       "   {'name': 'Scarpa',\n",
       "    'promoted_content': None,\n",
       "    'query': 'Scarpa',\n",
       "    'tweet_volume': None,\n",
       "    'url': 'http://twitter.com/search?q=Scarpa'},\n",
       "   {'name': 'Plantão da Globo',\n",
       "    'promoted_content': None,\n",
       "    'query': '%22Plant%C3%A3o+da+Globo%22',\n",
       "    'tweet_volume': 13862,\n",
       "    'url': 'http://twitter.com/search?q=%22Plant%C3%A3o+da+Globo%22'},\n",
       "   {'name': '#الا_يابعد_حيي_ياملكنا',\n",
       "    'promoted_content': None,\n",
       "    'query': '%23%D8%A7%D9%84%D8%A7_%D9%8A%D8%A7%D8%A8%D8%B9%D8%AF_%D8%AD%D9%8A%D9%8A_%D9%8A%D8%A7%D9%85%D9%84%D9%83%D9%86%D8%A7',\n",
       "    'tweet_volume': None,\n",
       "    'url': 'http://twitter.com/search?q=%23%D8%A7%D9%84%D8%A7_%D9%8A%D8%A7%D8%A8%D8%B9%D8%AF_%D8%AD%D9%8A%D9%8A_%D9%8A%D8%A7%D9%85%D9%84%D9%83%D9%86%D8%A7'},\n",
       "   {'name': '#WhyIDidntGetTheJob',\n",
       "    'promoted_content': None,\n",
       "    'query': '%23WhyIDidntGetTheJob',\n",
       "    'tweet_volume': None,\n",
       "    'url': 'http://twitter.com/search?q=%23WhyIDidntGetTheJob'},\n",
       "   {'name': '#MakeABandPowerful',\n",
       "    'promoted_content': None,\n",
       "    'query': '%23MakeABandPowerful',\n",
       "    'tweet_volume': None,\n",
       "    'url': 'http://twitter.com/search?q=%23MakeABandPowerful'},\n",
       "   {'name': '#YEsaCostumbreTuya',\n",
       "    'promoted_content': None,\n",
       "    'query': '%23YEsaCostumbreTuya',\n",
       "    'tweet_volume': 33765,\n",
       "    'url': 'http://twitter.com/search?q=%23YEsaCostumbreTuya'},\n",
       "   {'name': '#فضايح_الخلايا_الاستخباراتيه',\n",
       "    'promoted_content': None,\n",
       "    'query': '%23%D9%81%D8%B6%D8%A7%D9%8A%D8%AD_%D8%A7%D9%84%D8%AE%D9%84%D8%A7%D9%8A%D8%A7_%D8%A7%D9%84%D8%A7%D8%B3%D8%AA%D8%AE%D8%A8%D8%A7%D8%B1%D8%A7%D8%AA%D9%8A%D9%87',\n",
       "    'tweet_volume': 10046,\n",
       "    'url': 'http://twitter.com/search?q=%23%D9%81%D8%B6%D8%A7%D9%8A%D8%AD_%D8%A7%D9%84%D8%AE%D9%84%D8%A7%D9%8A%D8%A7_%D8%A7%D9%84%D8%A7%D8%B3%D8%AA%D8%AE%D8%A8%D8%A7%D8%B1%D8%A7%D8%AA%D9%8A%D9%87'},\n",
       "   {'name': '#XF11',\n",
       "    'promoted_content': None,\n",
       "    'query': '%23XF11',\n",
       "    'tweet_volume': 31012,\n",
       "    'url': 'http://twitter.com/search?q=%23XF11'},\n",
       "   {'name': '#BenAtBerkeley',\n",
       "    'promoted_content': None,\n",
       "    'query': '%23BenAtBerkeley',\n",
       "    'tweet_volume': 10424,\n",
       "    'url': 'http://twitter.com/search?q=%23BenAtBerkeley'},\n",
       "   {'name': '#Flicker',\n",
       "    'promoted_content': None,\n",
       "    'query': '%23Flicker',\n",
       "    'tweet_volume': 10225,\n",
       "    'url': 'http://twitter.com/search?q=%23Flicker'},\n",
       "   {'name': '#YQueTePareceSi',\n",
       "    'promoted_content': None,\n",
       "    'query': '%23YQueTePareceSi',\n",
       "    'tweet_volume': 17003,\n",
       "    'url': 'http://twitter.com/search?q=%23YQueTePareceSi'},\n",
       "   {'name': '#MercuryPrize',\n",
       "    'promoted_content': None,\n",
       "    'query': '%23MercuryPrize',\n",
       "    'tweet_volume': 12096,\n",
       "    'url': 'http://twitter.com/search?q=%23MercuryPrize'},\n",
       "   {'name': '#ليله_الجمعه',\n",
       "    'promoted_content': None,\n",
       "    'query': '%23%D9%84%D9%8A%D9%84%D9%87_%D8%A7%D9%84%D8%AC%D9%85%D8%B9%D9%87',\n",
       "    'tweet_volume': 11400,\n",
       "    'url': 'http://twitter.com/search?q=%23%D9%84%D9%8A%D9%84%D9%87_%D8%A7%D9%84%D8%AC%D9%85%D8%B9%D9%87'},\n",
       "   {'name': '#السعوديه_مصدر_فخر',\n",
       "    'promoted_content': None,\n",
       "    'query': '%23%D8%A7%D9%84%D8%B3%D8%B9%D9%88%D8%AF%D9%8A%D9%87_%D9%85%D8%B5%D8%AF%D8%B1_%D9%81%D8%AE%D8%B1',\n",
       "    'tweet_volume': None,\n",
       "    'url': 'http://twitter.com/search?q=%23%D8%A7%D9%84%D8%B3%D8%B9%D9%88%D8%AF%D9%8A%D9%87_%D9%85%D8%B5%D8%AF%D8%B1_%D9%81%D8%AE%D8%B1'},\n",
       "   {'name': '#Polemicaenelbar',\n",
       "    'promoted_content': None,\n",
       "    'query': '%23Polemicaenelbar',\n",
       "    'tweet_volume': None,\n",
       "    'url': 'http://twitter.com/search?q=%23Polemicaenelbar'},\n",
       "   {'name': '#Canelo',\n",
       "    'promoted_content': None,\n",
       "    'query': '%23Canelo',\n",
       "    'tweet_volume': None,\n",
       "    'url': 'http://twitter.com/search?q=%23Canelo'},\n",
       "   {'name': '#HOUvsCIN',\n",
       "    'promoted_content': None,\n",
       "    'query': '%23HOUvsCIN',\n",
       "    'tweet_volume': None,\n",
       "    'url': 'http://twitter.com/search?q=%23HOUvsCIN'},\n",
       "   {'name': '#BuGeceSöylemekİstediğim',\n",
       "    'promoted_content': None,\n",
       "    'query': '%23BuGeceS%C3%B6ylemek%C4%B0stedi%C4%9Fim',\n",
       "    'tweet_volume': None,\n",
       "    'url': 'http://twitter.com/search?q=%23BuGeceS%C3%B6ylemek%C4%B0stedi%C4%9Fim'},\n",
       "   {'name': '#Detremura350KnoSDV',\n",
       "    'promoted_content': None,\n",
       "    'query': '%23Detremura350KnoSDV',\n",
       "    'tweet_volume': None,\n",
       "    'url': 'http://twitter.com/search?q=%23Detremura350KnoSDV'},\n",
       "   {'name': '#CarinhaDeAnjo214',\n",
       "    'promoted_content': None,\n",
       "    'query': '%23CarinhaDeAnjo214',\n",
       "    'tweet_volume': None,\n",
       "    'url': 'http://twitter.com/search?q=%23CarinhaDeAnjo214'},\n",
       "   {'name': '#EstoyVivo2',\n",
       "    'promoted_content': None,\n",
       "    'query': '%23EstoyVivo2',\n",
       "    'tweet_volume': None,\n",
       "    'url': 'http://twitter.com/search?q=%23EstoyVivo2'},\n",
       "   {'name': '#draftlidom2017',\n",
       "    'promoted_content': None,\n",
       "    'query': '%23draftlidom2017',\n",
       "    'tweet_volume': None,\n",
       "    'url': 'http://twitter.com/search?q=%23draftlidom2017'},\n",
       "   {'name': '#Este18Estaré',\n",
       "    'promoted_content': None,\n",
       "    'query': '%23Este18Estar%C3%A9',\n",
       "    'tweet_volume': None,\n",
       "    'url': 'http://twitter.com/search?q=%23Este18Estar%C3%A9'},\n",
       "   {'name': '#ConPeñalosaHastaEl2020',\n",
       "    'promoted_content': None,\n",
       "    'query': '%23ConPe%C3%B1alosaHastaEl2020',\n",
       "    'tweet_volume': None,\n",
       "    'url': 'http://twitter.com/search?q=%23ConPe%C3%B1alosaHastaEl2020'},\n",
       "   {'name': '#MendesArmyEnMTVHITS',\n",
       "    'promoted_content': None,\n",
       "    'query': '%23MendesArmyEnMTVHITS',\n",
       "    'tweet_volume': None,\n",
       "    'url': 'http://twitter.com/search?q=%23MendesArmyEnMTVHITS'},\n",
       "   {'name': '#ArgentinaLovesLuke',\n",
       "    'promoted_content': None,\n",
       "    'query': '%23ArgentinaLovesLuke',\n",
       "    'tweet_volume': None,\n",
       "    'url': 'http://twitter.com/search?q=%23ArgentinaLovesLuke'},\n",
       "   {'name': '#شعيب_وروان_يعادون_السعوديه',\n",
       "    'promoted_content': None,\n",
       "    'query': '%23%D8%B4%D8%B9%D9%8A%D8%A8_%D9%88%D8%B1%D9%88%D8%A7%D9%86_%D9%8A%D8%B9%D8%A7%D8%AF%D9%88%D9%86_%D8%A7%D9%84%D8%B3%D8%B9%D9%88%D8%AF%D9%8A%D9%87',\n",
       "    'tweet_volume': 14846,\n",
       "    'url': 'http://twitter.com/search?q=%23%D8%B4%D8%B9%D9%8A%D8%A8_%D9%88%D8%B1%D9%88%D8%A7%D9%86_%D9%8A%D8%B9%D8%A7%D8%AF%D9%88%D9%86_%D8%A7%D9%84%D8%B3%D8%B9%D9%88%D8%AF%D9%8A%D9%87'},\n",
       "   {'name': '#OperacionNisman',\n",
       "    'promoted_content': None,\n",
       "    'query': '%23OperacionNisman',\n",
       "    'tweet_volume': None,\n",
       "    'url': 'http://twitter.com/search?q=%23OperacionNisman'},\n",
       "   {'name': '#VaiComTudoBahls',\n",
       "    'promoted_content': None,\n",
       "    'query': '%23VaiComTudoBahls',\n",
       "    'tweet_volume': None,\n",
       "    'url': 'http://twitter.com/search?q=%23VaiComTudoBahls'},\n",
       "   {'name': '#OMKON',\n",
       "    'promoted_content': None,\n",
       "    'query': '%23OMKON',\n",
       "    'tweet_volume': 27894,\n",
       "    'url': 'http://twitter.com/search?q=%23OMKON'},\n",
       "   {'name': '#EmpiezoARezarCuando',\n",
       "    'promoted_content': None,\n",
       "    'query': '%23EmpiezoARezarCuando',\n",
       "    'tweet_volume': None,\n",
       "    'url': 'http://twitter.com/search?q=%23EmpiezoARezarCuando'},\n",
       "   {'name': '#BizimHikaye',\n",
       "    'promoted_content': None,\n",
       "    'query': '%23BizimHikaye',\n",
       "    'tweet_volume': 56705,\n",
       "    'url': 'http://twitter.com/search?q=%23BizimHikaye'},\n",
       "   {'name': '#TBTNoMTVHits',\n",
       "    'promoted_content': None,\n",
       "    'query': '%23TBTNoMTVHits',\n",
       "    'tweet_volume': None,\n",
       "    'url': 'http://twitter.com/search?q=%23TBTNoMTVHits'},\n",
       "   {'name': '#Piazzapulita',\n",
       "    'promoted_content': None,\n",
       "    'query': '%23Piazzapulita',\n",
       "    'tweet_volume': None,\n",
       "    'url': 'http://twitter.com/search?q=%23Piazzapulita'},\n",
       "   {'name': '#TengoAlgoQueDecir',\n",
       "    'promoted_content': None,\n",
       "    'query': '%23TengoAlgoQueDecir',\n",
       "    'tweet_volume': None,\n",
       "    'url': 'http://twitter.com/search?q=%23TengoAlgoQueDecir'}]}]"
      ]
     },
     "execution_count": 36,
     "metadata": {},
     "output_type": "execute_result"
    }
   ],
   "source": [
    "world_trends"
   ]
  },
  {
   "cell_type": "markdown",
   "metadata": {},
   "source": [
    "# Example 3.  Reading data into MongoDB"
   ]
  },
  {
   "cell_type": "code",
   "execution_count": 37,
   "metadata": {},
   "outputs": [],
   "source": [
    "import json\n",
    "import pymongo"
   ]
  },
  {
   "cell_type": "code",
   "execution_count": 38,
   "metadata": {},
   "outputs": [],
   "source": [
    "# Based upon example 9-7 in *required reading*\n",
    "# Mining the Soocial Web, Chapter 9\n",
    "\n",
    "# Connects to the MongoDB server running on \n",
    "# localhost:27017 by default\n",
    "    \n",
    "client = pymongo.MongoClient()\n",
    "    \n",
    "# Get a reference to a particular database\n",
    "    \n",
    "db = client['twitter']\n",
    "    \n",
    "# Reference a particular collection in the database\n",
    "coll = db['us_trends']\n",
    "\n",
    "# Clear any old data out of the database\n",
    "# **Only for Demonstration**\n",
    "coll.drop()\n",
    "    \n",
    "# Perform a bulk insert and  return the IDs\n",
    "    \n",
    "_ = coll.insert_many(us_trends[0]['trends'])\n"
   ]
  },
  {
   "cell_type": "markdown",
   "metadata": {},
   "source": [
    "# Example 4.  Reading data out of MongoDB"
   ]
  },
  {
   "cell_type": "code",
   "execution_count": 39,
   "metadata": {
    "collapsed": true
   },
   "outputs": [],
   "source": [
    "# Connects to the MongoDB server running on \n",
    "# localhost:27017 by default\n",
    "    \n",
    "client = pymongo.MongoClient()\n",
    "    \n",
    "# Get a reference to a particular database\n",
    "    \n",
    "db = client['twitter']\n",
    "    \n",
    "# Reference a particular collection in the database\n",
    "coll = db['us_trends']"
   ]
  },
  {
   "cell_type": "code",
   "execution_count": 40,
   "metadata": {
    "collapsed": true
   },
   "outputs": [],
   "source": [
    "cursor = coll.find({})"
   ]
  },
  {
   "cell_type": "code",
   "execution_count": 41,
   "metadata": {},
   "outputs": [
    {
     "name": "stdout",
     "output_type": "stream",
     "text": [
      "#WhyIDidntGetTheJob None\n",
      "#MakeABandPowerful None\n",
      "#BenAtBerkeley None\n",
      "Jew Haters 38178\n",
      "#HOUvsCIN None\n",
      "Rhys Hoskins None\n",
      "#Casablanca None\n",
      "Pyongyang 36580\n",
      "Sean Adams None\n",
      "Wade Miley None\n",
      "Chelsea Manning 30933\n",
      "Arsenal 362174\n",
      "John Wick None\n",
      "Montell Cozart None\n",
      "Mickey Dean None\n",
      "Jorge Alfaro None\n",
      "Vance Worley None\n",
      "Sylvia Fowles None\n",
      "Hokkaido 25119\n",
      "Fergie and Josh Duhamel None\n",
      "Pacific Ocean None\n",
      "Legends Never Die None\n",
      "Christina Wilson None\n",
      "Japón 46671\n",
      "Max Gruver None\n",
      "Tomlin None\n",
      "Tseng None\n",
      "#MTLCAwards None\n",
      "#MEMSPAchat None\n",
      "#AnnMtg17 None\n",
      "#onanyc None\n",
      "#IWasInvestigatedFor None\n",
      "#ChildCare4All None\n",
      "#Flicker 10060\n",
      "#BeatShazam None\n",
      "#RejectedHoroscopes None\n",
      "#HHA30 None\n",
      "#MovieFightsLive None\n",
      "#driveinmob None\n",
      "#USIntlClassic17 None\n",
      "#Tucker None\n",
      "#globaledchat None\n",
      "#PhillyTribMI None\n",
      "#DiamondBall None\n",
      "#HispanicHouston None\n",
      "#seesawchat None\n",
      "#IMPACTonPOP None\n",
      "#Canelo None\n",
      "#MercuryPrize 12061\n",
      "#InternetSummit None\n"
     ]
    }
   ],
   "source": [
    "for trend in cursor:\n",
    "    print(trend['name'], trend['tweet_volume'])"
   ]
  },
  {
   "cell_type": "markdown",
   "metadata": {},
   "source": [
    "# Example 5. Searching MongoDB"
   ]
  },
  {
   "cell_type": "code",
   "execution_count": 42,
   "metadata": {
    "collapsed": true
   },
   "outputs": [],
   "source": [
    "# Do a search!  See \n",
    "# https://docs.mongodb.org/getting-started/python/query/\n",
    "# and\n",
    "# https://docs.mongodb.org/manual/tutorial/query-documents/\n",
    "# for details.\n",
    "cursor = coll.find({'tweet_volume': {'$gt': 30000} })"
   ]
  },
  {
   "cell_type": "code",
   "execution_count": 43,
   "metadata": {},
   "outputs": [
    {
     "name": "stdout",
     "output_type": "stream",
     "text": [
      "Jew Haters 38178\n",
      "Pyongyang 36580\n",
      "Chelsea Manning 30933\n",
      "Arsenal 362174\n",
      "Japón 46671\n"
     ]
    }
   ],
   "source": [
    "for trend in cursor:\n",
    "    print(trend['name'], trend['tweet_volume'])"
   ]
  },
  {
   "cell_type": "markdown",
   "metadata": {},
   "source": [
    "# Example 6. Fancy searches... regular expressions!"
   ]
  },
  {
   "cell_type": "code",
   "execution_count": 44,
   "metadata": {},
   "outputs": [],
   "source": [
    "# Do a search!  See \n",
    "# https://docs.mongodb.org/getting-started/python/query/\n",
    "# and\n",
    "# https://docs.mongodb.org/manual/tutorial/query-documents/\n",
    "# for details.\n",
    "cursor = coll.find({'$or': [ {'tweet_volume': {'$gt': 30000}} ,\n",
    "                            {'name':  {'$regex': '.*car.*', '$options': 'i' }} ] })"
   ]
  },
  {
   "cell_type": "code",
   "execution_count": 45,
   "metadata": {},
   "outputs": [
    {
     "name": "stdout",
     "output_type": "stream",
     "text": [
      "Jew Haters 38178\n",
      "Pyongyang 36580\n",
      "Chelsea Manning 30933\n",
      "Arsenal 362174\n",
      "Japón 46671\n",
      "#ChildCare4All None\n"
     ]
    }
   ],
   "source": [
    "for trend in cursor:\n",
    "    print(trend['name'], trend['tweet_volume'])"
   ]
  },
  {
   "cell_type": "code",
   "execution_count": null,
   "metadata": {
    "collapsed": true
   },
   "outputs": [],
   "source": []
  },
  {
   "cell_type": "code",
   "execution_count": null,
   "metadata": {
    "collapsed": true
   },
   "outputs": [],
   "source": []
  }
 ],
 "metadata": {
  "anaconda-cloud": {},
  "kernel_info": {
   "name": "python3"
  },
  "kernelspec": {
   "display_name": "Python 3",
   "language": "python",
   "name": "python3"
  },
  "language_info": {
   "codemirror_mode": {
    "name": "ipython",
    "version": 3
   },
   "file_extension": ".py",
   "mimetype": "text/x-python",
   "name": "python",
   "nbconvert_exporter": "python",
   "pygments_lexer": "ipython3",
   "version": "3.7.3"
  },
  "nteract": {
   "version": "0.2.0"
  }
 },
 "nbformat": 4,
 "nbformat_minor": 1
}
